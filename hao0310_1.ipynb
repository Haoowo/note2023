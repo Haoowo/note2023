{
 "cells": [
  {
   "cell_type": "code",
   "execution_count": 23,
   "metadata": {},
   "outputs": [],
   "source": [
    "import requests as rq\n",
    "r=rq.get('https://fchart.github.io/ML/Surveys.html')\n",
    "r.encoding='utf-8'\n",
    "with open(\"Surveys.html\",'wb') as f:\n",
    "    f.write(r.content)"
   ]
  },
  {
   "cell_type": "code",
   "execution_count": null,
   "metadata": {},
   "outputs": [],
   "source": [
    "from bs4 import BeautifulSoup\n",
    "with open(\"Surveys.html\",\"r\",encoding=\"utf8\") as fp:\n",
    "    soup=BeautifulSoup(fp,'lxml')\n",
    "    print(soup.prettify())"
   ]
  },
  {
   "cell_type": "code",
   "execution_count": null,
   "metadata": {},
   "outputs": [],
   "source": [
    "tag_p=soup.find(name=\"p\")\n",
    "tag_a=tag_p.find(name=\"a\")\n",
    "print(tag_p.a.text)\n",
    "print(tag_a.text)\n"
   ]
  },
  {
   "cell_type": "code",
   "execution_count": null,
   "metadata": {},
   "outputs": [],
   "source": [
    "tag_div=soup.find(id='q2')\n",
    "print(tag_div)\n",
    "tag_a=tag_div.find(name=\"a\")\n",
    "print(tag_a.text)"
   ]
  },
  {
   "cell_type": "code",
   "execution_count": 11,
   "metadata": {},
   "outputs": [
    {
     "name": "stdout",
     "output_type": "stream",
     "text": [
      "20\n"
     ]
    }
   ],
   "source": [
    "#tag_span=soup.find(class_='score')\n",
    "tag_span=soup.find(attrs={\"class\":\"score\"})\n",
    "print(tag_span.text)"
   ]
  },
  {
   "cell_type": "code",
   "execution_count": null,
   "metadata": {},
   "outputs": [],
   "source": [
    "tag_div=soup.find(\"div\",class_=\"question\")\n",
    "print(tag_div.prettify())"
   ]
  },
  {
   "cell_type": "code",
   "execution_count": null,
   "metadata": {},
   "outputs": [],
   "source": [
    "from bs4 import BeautifulSoup\n",
    "url=\"http://ehappy.tw/bsdemo1.htm\"\n",
    "html=rq.get(url)\n",
    "html.encoding='UTF-8'\n",
    "sp=BeautifulSoup(html.text,'lxml')\n",
    "tag_tit=sp.select('title')\n",
    "print(sp.select('[class=large]'))\n",
    "print(sp.select('.large'))\n",
    "print(sp.select('[alt=我是圖片]'))\n"
   ]
  },
  {
   "cell_type": "code",
   "execution_count": null,
   "metadata": {},
   "outputs": [],
   "source": [
    "print(sp.select('img')[0]['src'])\n",
    "print(sp.select('img')[0].get('src'))"
   ]
  },
  {
   "cell_type": "code",
   "execution_count": 12,
   "metadata": {},
   "outputs": [
    {
     "name": "stdout",
     "output_type": "stream",
     "text": [
      "[<p>我是段落</p>]\n"
     ]
    }
   ],
   "source": [
    "print(sp.select('div p'))"
   ]
  }
 ],
 "metadata": {
  "kernelspec": {
   "display_name": "base",
   "language": "python",
   "name": "python3"
  },
  "language_info": {
   "codemirror_mode": {
    "name": "ipython",
    "version": 3
   },
   "file_extension": ".py",
   "mimetype": "text/x-python",
   "name": "python",
   "nbconvert_exporter": "python",
   "pygments_lexer": "ipython3",
   "version": "3.9.12"
  },
  "orig_nbformat": 4,
  "vscode": {
   "interpreter": {
    "hash": "a077222d77dfe082b8f1dd562ad70e458ac2ab76993a0b248ab0476e32e9e8dd"
   }
  }
 },
 "nbformat": 4,
 "nbformat_minor": 2
}
