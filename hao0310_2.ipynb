{
 "cells": [
  {
   "cell_type": "code",
   "execution_count": 1,
   "metadata": {},
   "outputs": [],
   "source": [
    "import requests as rq\n",
    "r=rq.get('https://www.taiwanlottery.com.tw/lotto/lotto649/history.aspx')\n",
    "r.encoding='utf-8'\n",
    "with open(\"lotto.html\",'wb') as f:\n",
    "    f.write(r.content)"
   ]
  },
  {
   "cell_type": "code",
   "execution_count": null,
   "metadata": {},
   "outputs": [],
   "source": [
    "\n",
    "from bs4 import BeautifulSoup\n",
    "with open(\"lotto.html\",\"r\",encoding=\"utf8\") as fp:\n",
    "    soup=BeautifulSoup(fp,'lxml')\n",
    "    print(soup.prettify())"
   ]
  },
  {
   "cell_type": "code",
   "execution_count": 18,
   "metadata": {},
   "outputs": [
    {
     "name": "stdout",
     "output_type": "stream",
     "text": [
      "23 41 17 32 25 13 16 "
     ]
    }
   ],
   "source": [
    "tag_num1=soup.find(id='Lotto649Control_history_dlQuery_SNo1_0')\n",
    "tag_num2=soup.find(id='Lotto649Control_history_dlQuery_SNo2_0')\n",
    "tag_num3=soup.find(id='Lotto649Control_history_dlQuery_SNo3_0')\n",
    "tag_num4=soup.find(id='Lotto649Control_history_dlQuery_SNo4_0')\n",
    "tag_num5=soup.find(id='Lotto649Control_history_dlQuery_SNo5_0')\n",
    "tag_num6=soup.find(id='Lotto649Control_history_dlQuery_SNo6_0')\n",
    "tag_num7=soup.find(id='Lotto649Control_history_dlQuery_No7_0')\n",
    "#tag_p=soup.find(\"tr\",class_=\"td_org2\")\n",
    "print(tag_num1.text,end=' ')\n",
    "print(tag_num2.text,end=' ')\n",
    "print(tag_num3.text,end=' ')\n",
    "print(tag_num4.text,end=' ')\n",
    "print(tag_num5.text,end=' ')\n",
    "print(tag_num6.text,end=' ')\n",
    "print(tag_num7.text,end=' ')"
   ]
  },
  {
   "cell_type": "code",
   "execution_count": 35,
   "metadata": {},
   "outputs": [
    {
     "name": "stdout",
     "output_type": "stream",
     "text": [
      "37 \n"
     ]
    }
   ],
   "source": [
    "import requests as rq\n",
    "url='https://www.taiwanlottery.com.tw/index_new.aspx'\n",
    "\n",
    "html=rq.get(url)\n",
    "sp=BeautifulSoup(html.text,'lxml')\n",
    "#teg=sp.find(id='Lotto649Control_history_dlQuery_SNo1_0')\n",
    "#找威力彩區塊:find()/find_all()、select()、Xpath\n",
    "#contents_logo_02\n",
    "tag_cl=sp.find(\"div\",class_=\"ball_tx ball_green\")\n",
    "\n",
    "print(tag_cl.text)\n"
   ]
  }
 ],
 "metadata": {
  "kernelspec": {
   "display_name": "base",
   "language": "python",
   "name": "python3"
  },
  "language_info": {
   "codemirror_mode": {
    "name": "ipython",
    "version": 3
   },
   "file_extension": ".py",
   "mimetype": "text/x-python",
   "name": "python",
   "nbconvert_exporter": "python",
   "pygments_lexer": "ipython3",
   "version": "3.9.12"
  },
  "orig_nbformat": 4,
  "vscode": {
   "interpreter": {
    "hash": "a077222d77dfe082b8f1dd562ad70e458ac2ab76993a0b248ab0476e32e9e8dd"
   }
  }
 },
 "nbformat": 4,
 "nbformat_minor": 2
}
