{
 "cells": [
  {
   "cell_type": "code",
   "execution_count": null,
   "metadata": {},
   "outputs": [],
   "source": [
    "import requests\n",
    "respon=requests.get('https://api.github.com/user/repos',auth=('Haoowo','password'))\n",
    "respon"
   ]
  },
  {
   "cell_type": "code",
   "execution_count": null,
   "metadata": {},
   "outputs": [],
   "source": [
    "import requests as rq\n",
    "url='https://www.ptt.cc/bbs/Gossiping/index.html'\n",
    "cookie={'over18':'1'}\n",
    "\n",
    "url=rq.get(url,cookies=cookie)\n",
    "if url.status_code==200:\n",
    "    print(url.text)"
   ]
  },
  {
   "attachments": {},
   "cell_type": "markdown",
   "metadata": {},
   "source": [
    "HTML(HyperText Markup Language)網頁的樹狀結構\n",
    "\n",
    "https://fchart.github.io/ML/Surveys.html"
   ]
  },
  {
   "cell_type": "code",
   "execution_count": 57,
   "metadata": {},
   "outputs": [
    {
     "name": "stdout",
     "output_type": "stream",
     "text": [
      "標籤名稱: a\n",
      "標籤內容: 請問你是否喜歡偵探小說?\n",
      "標籤內容: None\n",
      "標籤內容: <b>偵探小說</b>\n",
      "標籤內容: None\n",
      "標籤內容: 偵探小說\n",
      "URL網址: http://example.com/q2\n",
      "target 屬性: _blank\n",
      "偵探小說\n"
     ]
    }
   ],
   "source": [
    "#下載網頁\n",
    "import requests as rq\n",
    "url='https://fchart.github.io/ML/Surveys.html'\n",
    "html=rq.get(url)\n",
    "#解析網頁內容\n",
    "from bs4 import BeautifulSoup\n",
    "sp=BeautifulSoup(html.text,'lxml')\n",
    "#print(html.text)#sp\n",
    "\n",
    "#取出所有div標籤的物件串列\n",
    "#print(tags[0])\n",
    "#print(sp.title)\n",
    "#tags=sp('div')\n",
    "tags=sp('a')\n",
    "tag=tags[1]\n",
    "print('標籤名稱:',tag.name)\n",
    "print('標籤內容:',tag.text)\n",
    "print('標籤內容:',tag.String)\n",
    "print('標籤內容:',tag.b)\n",
    "print('標籤內容:',tag.b.String)\n",
    "print('標籤內容:',tag.b.text)\n",
    "print('URL網址:',tag.get('href',None))\n",
    "print('target 屬性:',tag['target'])\n",
    "\n",
    "#向下走法\n",
    "#print(sp.html.body.div.p.a.text)\n",
    "#向上走訪\n",
    "#print(tag.parent)#<P>的內容\n",
    "print(tag.parent.parent.p.a.b.text)\n"
   ]
  }
 ],
 "metadata": {
  "kernelspec": {
   "display_name": "base",
   "language": "python",
   "name": "python3"
  },
  "language_info": {
   "codemirror_mode": {
    "name": "ipython",
    "version": 3
   },
   "file_extension": ".py",
   "mimetype": "text/x-python",
   "name": "python",
   "nbconvert_exporter": "python",
   "pygments_lexer": "ipython3",
   "version": "3.9.12"
  },
  "orig_nbformat": 4,
  "vscode": {
   "interpreter": {
    "hash": "a077222d77dfe082b8f1dd562ad70e458ac2ab76993a0b248ab0476e32e9e8dd"
   }
  }
 },
 "nbformat": 4,
 "nbformat_minor": 2
}
